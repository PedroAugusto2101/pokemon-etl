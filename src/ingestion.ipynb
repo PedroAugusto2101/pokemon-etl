{
 "cells": [
  {
   "cell_type": "code",
   "execution_count": 0,
   "metadata": {
    "application/vnd.databricks.v1+cell": {
     "cellMetadata": {
      "byteLimit": 2048000,
      "rowLimit": 10000
     },
     "inputWidgets": {},
     "nuid": "8b7fcf1d-a8a7-4034-a5d6-b49dfec9c41e",
     "showTitle": false,
     "tableResultSettingsMap": {},
     "title": ""
    }
   },
   "outputs": [],
   "source": [
    "import requests # is already in the databricks python environment\n",
    "import json\n",
    "import datetime\n",
    "\n",
    "url = \"https://pokeapi.co/api/v2/pokemon?limit=2000\"\n",
    "\n",
    "response = requests.get(url)\n",
    "data = response.json()\n",
    "\n",
    "data_save = data['results']\n",
    "\n",
    "now = datetime.datetime.now().strftime(\"%Y%m%d_%H%M%S\")\n",
    "path = f\"/Volumes/raw/pokemon/pokemon_raw/pokemons_list/{now}.json\"\n",
    "# this is possible because we already have the Volumes mounted\n",
    "# it wouldn't be possible if when using os.listdir() we haven't find the Volumes folder\n",
    "\n",
    "with open(path, 'w') as open_file:\n",
    "    json.dump(data_save, open_file)"
   ]
  }
 ],
 "metadata": {
  "application/vnd.databricks.v1+notebook": {
   "computePreferences": null,
   "dashboards": [],
   "environmentMetadata": {
    "base_environment": "",
    "environment_version": "2"
   },
   "inputWidgetPreferences": null,
   "language": "python",
   "notebookMetadata": {
    "pythonIndentUnit": 4
   },
   "notebookName": "ingestion",
   "widgets": {}
  },
  "language_info": {
   "name": "python"
  }
 },
 "nbformat": 4,
 "nbformat_minor": 0
}
