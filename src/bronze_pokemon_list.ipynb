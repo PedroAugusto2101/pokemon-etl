{
 "cells": [
  {
   "cell_type": "code",
   "execution_count": 0,
   "metadata": {
    "application/vnd.databricks.v1+cell": {
     "cellMetadata": {
      "byteLimit": 2048000,
      "rowLimit": 10000
     },
     "inputWidgets": {},
     "nuid": "49b71358-0fcd-4184-91b5-38b68546278c",
     "showTitle": false,
     "tableResultSettingsMap": {},
     "title": ""
    }
   },
   "outputs": [],
   "source": [
    "df = spark.read.json(\"/Volumes/raw/pokemon/pokemon_raw/pokemons_list/\")\n",
    "# by reading this way, passing only the folder name, Spark will infer the schema\n",
    "# we don't read unique files with spark, because it is parallelized\n",
    "# so we pass only the folder's name, and the spark will mix all the files\n",
    "# in only one dataframe\n",
    "df.distinct().coalesce(1).write.format(\"delta\").mode(\"overwrite\").saveAsTable(\"bronze.pokemon.tb_pokemon_list\")\n",
    "# coalesce means that we want to have only one file in the folder\n",
    "# it happens becaus spark works and saves in partitions, due to it's parallelization\n",
    "# so we want to have only one file, so we use coalesce"
   ]
  }
 ],
 "metadata": {
  "application/vnd.databricks.v1+notebook": {
   "computePreferences": null,
   "dashboards": [],
   "environmentMetadata": {
    "base_environment": "",
    "environment_version": "2"
   },
   "inputWidgetPreferences": null,
   "language": "python",
   "notebookMetadata": {
    "mostRecentlyExecutedCommandWithImplicitDF": {
     "commandId": 7288164127861816,
     "dataframes": [
      "_sqldf"
     ]
    },
    "pythonIndentUnit": 4
   },
   "notebookName": "bronze_pokemon_list",
   "widgets": {}
  },
  "language_info": {
   "name": "python"
  }
 },
 "nbformat": 4,
 "nbformat_minor": 0
}
